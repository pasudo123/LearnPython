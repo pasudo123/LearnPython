{
 "cells": [
  {
   "cell_type": "markdown",
   "metadata": {},
   "source": [
    "# Closures\n",
    "---\n",
    "프로그래밍 언어에서의 클로저란 퍼스트클래스 함수를 지원하는 언어의 네임 바인딩 기술이다. \n",
    "\n",
    "클로저는 어떤 함수를 함수 자신이 가지고 있는 환경과 함께 저장한 레코드이다. 또한 함수가 가진 프리변수 (Free Variable)를 클로저가 만들어지는 당시의 값과 레퍼런스에 맵핑(mapping : 사상)하여 주는 역할을 한다. 클로저는 일반 함수와는 다르게, 자신의 영역 밖에서 호출된 함수의 변수값과 레퍼런스를 복사하고  저장한다.\n",
    "\n",
    "이렇게 캡처한 값들을 액세스할 수 있게 도와준다.\n",
    "\n",
    "#### 프리변수 (Free Variable) ?\n",
    "---\n",
    "파이썬에서 프리변수는 코드 블럭 안에서 사용은 되었지만, <BR>\n",
    "해당 코드 블럭 안에서 정의되지 않은 변수를 뜻한다. "
   ]
  },
  {
   "cell_type": "code",
   "execution_count": 1,
   "metadata": {
    "collapsed": false
   },
   "outputs": [
    {
     "name": "stdout",
     "output_type": "stream",
     "text": [
      "Hi\n"
     ]
    }
   ],
   "source": [
    "def outer_func():\n",
    "    message = 'Hi'\n",
    "    \n",
    "    def inner_func():\n",
    "        print(message)\n",
    "        \n",
    "    return inner_func()\n",
    "\n",
    "outer_func()"
   ]
  },
  {
   "cell_type": "markdown",
   "metadata": {},
   "source": [
    "위의 내용을 살펴보면, 순서에 따라서 실행됨을 확인할 수 있다. <BR>\n",
    "outer_func() >> return inner_func() >> inner_func() >> Hi\n",
    "\n",
    "1. outer_func 은 어떠한 파라미터도 받지 않는다.\n",
    "2. outer_func 이 실행된 후, 가장 먼저 message 라는 변수에 'Hi' 라는 문자열을 할당한다.\n",
    "3. inner_func 을 정의하고, inner_func을 호출하며 동시에 리턴을 한다.\n",
    "4. message 변수를 참조하여 출력한다.\n",
    "5. 여기서 message 는 inner_func 에서 정의되지 않았지만, inner_func 안에서 사용되기 때문에 프리변수라고 부른다.\n",
    "\n",
    "따라서 위의 수행과정을 거쳐서 \"Hi\" 가 출력되는 것이다. \n",
    "\n",
    "<B> 그리고 위의 코드를 수정해서 아래와 같이 나타내자 </B>"
   ]
  },
  {
   "cell_type": "code",
   "execution_count": 2,
   "metadata": {
    "collapsed": false
   },
   "outputs": [
    {
     "data": {
      "text/plain": [
       "<function __main__.outer_func.<locals>.inner_func>"
      ]
     },
     "execution_count": 2,
     "metadata": {},
     "output_type": "execute_result"
    }
   ],
   "source": [
    "def outer_func():\n",
    "    message = 'Hi'\n",
    "    \n",
    "    def inner_func():\n",
    "        print(message)\n",
    "        \n",
    "    return inner_func # <-- () 를 삭제하였다.\n",
    "\n",
    "outer_func()\n",
    "# print(outer_func())"
   ]
  },
  {
   "cell_type": "markdown",
   "metadata": {},
   "source": [
    "함수의 오브젝트를 리턴하였을 뿐이다.\n",
    "\n",
    "<B>이번에는 outer_func 이 리턴하는 inner_func 오브젝트를 변수에 할당해보자</B>"
   ]
  },
  {
   "cell_type": "code",
   "execution_count": 3,
   "metadata": {
    "collapsed": false
   },
   "outputs": [
    {
     "name": "stdout",
     "output_type": "stream",
     "text": [
      "<function outer_func.<locals>.inner_func at 0x000002508F605730>\n",
      "Hi\n",
      "Hi\n",
      "Hi\n"
     ]
    }
   ],
   "source": [
    "def outer_func():\n",
    "    message = 'Hi'\n",
    "\n",
    "    def inner_func():\n",
    "        print(message)\n",
    "\n",
    "    return inner_func\n",
    "\n",
    "my_func = outer_func() # <-- 리턴값인 inner_func를 변수에 할당합니다.\n",
    "# my_func\n",
    "print(my_func)\n",
    "my_func()\n",
    "my_func()\n",
    "my_func()"
   ]
  },
  {
   "cell_type": "markdown",
   "metadata": {},
   "source": [
    "<B>위의 내용이 가능한 이유는 클로저 때문이다.</B>\n",
    "\n",
    "클로저는 함수의 프리변수 값을 어딘가에 저장하였다."
   ]
  },
  {
   "cell_type": "code",
   "execution_count": 4,
   "metadata": {
    "collapsed": false
   },
   "outputs": [
    {
     "name": "stdout",
     "output_type": "stream",
     "text": [
      "----------------------------------------------------------\n",
      "\n",
      " <function outer_func.<locals>.inner_func at 0x000002508F85CB70> \n",
      "\n",
      "----------------------------------------------------------\n",
      "\n",
      " ['__annotations__', '__call__', '__class__', '__closure__', '__code__', '__defaults__', '__delattr__', '__dict__', '__dir__', '__doc__', '__eq__', '__format__', '__ge__', '__get__', '__getattribute__', '__globals__', '__gt__', '__hash__', '__init__', '__kwdefaults__', '__le__', '__lt__', '__module__', '__name__', '__ne__', '__new__', '__qualname__', '__reduce__', '__reduce_ex__', '__repr__', '__setattr__', '__sizeof__', '__str__', '__subclasshook__'] \n",
      "\n",
      "----------------------------------------------------------\n",
      "\n",
      " <class 'tuple'> \n",
      "\n",
      "----------------------------------------------------------\n",
      "\n",
      " (<cell at 0x000002508F857948: str object at 0x000002508F8584C8>,) \n",
      "\n",
      "----------------------------------------------------------\n",
      "\n",
      " ['__class__', '__delattr__', '__dir__', '__doc__', '__eq__', '__format__', '__ge__', '__getattribute__', '__gt__', '__hash__', '__init__', '__le__', '__lt__', '__ne__', '__new__', '__reduce__', '__reduce_ex__', '__repr__', '__setattr__', '__sizeof__', '__str__', '__subclasshook__', 'cell_contents'] \n",
      "\n",
      "----------------------------------------------------------\n",
      "\n",
      " Hi \n",
      "\n",
      "----------------------------------------------------------\n"
     ]
    }
   ],
   "source": [
    "def outer_func():\n",
    "    message = 'Hi'\n",
    "\n",
    "    def inner_func():\n",
    "        print(message)\n",
    "\n",
    "    return inner_func\n",
    "\n",
    "my_func = outer_func()\n",
    "\n",
    "print('----------------------------------------------------------')\n",
    "print(\"\\n\", my_func,\"\\n\")\n",
    "print('----------------------------------------------------------')\n",
    "print(\"\\n\", dir(my_func),\"\\n\")\n",
    "print('----------------------------------------------------------')\n",
    "print(\"\\n\", type(my_func.__closure__),\"\\n\")\n",
    "print('----------------------------------------------------------')\n",
    "print(\"\\n\", my_func.__closure__,\"\\n\")\n",
    "print('----------------------------------------------------------')\n",
    "print(\"\\n\", dir(my_func.__closure__[0]),\"\\n\")\n",
    "print('----------------------------------------------------------')\n",
    "print(\"\\n\", my_func.__closure__[0].cell_contents,\"\\n\")\n",
    "print('----------------------------------------------------------')"
   ]
  },
  {
   "cell_type": "markdown",
   "metadata": {},
   "source": [
    "출력된 내용이 많지만 하나하나 차근차근 가면 이해할 수 있다. <BR>\n",
    "\n",
    "1. my_func 변수에 inner_func 함수 오브젝트리 리턴됨을 확인\n",
    "2. 클로저가 어디에 데이터를 보관하였는지를 확인하기 위해서 dir() 함수 이용, my_func() 네임스페이스 확인, ______closure______ 라는 속성이 있음을 확인\n",
    "3. ______closure______ 타입은 튜플임을 확인\n",
    "4. 해당 튜플에 어느 값이 있는지 확인하니, 문자열 오브젝트 str object 라고 명시되어 있음\n",
    "5. cell_contens 속성에 \"Hi\" 가 들어있다."
   ]
  },
  {
   "cell_type": "code",
   "execution_count": 5,
   "metadata": {
    "collapsed": false
   },
   "outputs": [
    {
     "name": "stdout",
     "output_type": "stream",
     "text": [
      "<h1>Some text<h1>\n",
      "<p>Some text<p>\n"
     ]
    }
   ],
   "source": [
    "def outer_func(tag):\n",
    "    text = 'Some text'  \n",
    "    tag = tag \n",
    "\n",
    "    def inner_func(): \n",
    "        print('<{0}>{1}<{0}>'.format(tag, text))\n",
    "    return inner_func \n",
    "\n",
    "h1_func = outer_func('h1') \n",
    "p_func = outer_func('p')\n",
    "\n",
    "h1_func() \n",
    "p_func()"
   ]
  },
  {
   "cell_type": "markdown",
   "metadata": {},
   "source": [
    "클로저는 이렇게 하나의 함수로 여러가지 함수를 간단히 만들어낼 수 있게도 해주며, <BR>\n",
    "기존에 만들어진 함수나 모듈 등을 수정하지 않더라도 wrapper 함수를 이용해 <BR>\n",
    "커스터마이징할 수 있게 해주는 역할을 한다."
   ]
  }
 ],
 "metadata": {
  "anaconda-cloud": {},
  "kernelspec": {
   "display_name": "Python [conda root]",
   "language": "python",
   "name": "conda-root-py"
  },
  "language_info": {
   "codemirror_mode": {
    "name": "ipython",
    "version": 3
   },
   "file_extension": ".py",
   "mimetype": "text/x-python",
   "name": "python",
   "nbconvert_exporter": "python",
   "pygments_lexer": "ipython3",
   "version": "3.5.2"
  }
 },
 "nbformat": 4,
 "nbformat_minor": 1
}
