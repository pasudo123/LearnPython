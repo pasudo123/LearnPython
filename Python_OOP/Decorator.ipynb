{
 "cells": [
  {
   "cell_type": "markdown",
   "metadata": {},
   "source": [
    "# 데코레이터 (Decorator)\n",
    "----\n",
    "데코레이터란 ?\n",
    "\n",
    "기존의 코드에 여러가지 기능을 추가하는 파이썬 구문이다.<BR>"
   ]
  },
  {
   "cell_type": "code",
   "execution_count": 1,
   "metadata": {
    "collapsed": false
   },
   "outputs": [
    {
     "name": "stdout",
     "output_type": "stream",
     "text": [
      "Hi\n",
      "Bye\n"
     ]
    }
   ],
   "source": [
    "def outer_function(msg):\n",
    "    def inner_function():\n",
    "        print(msg)\n",
    "    return inner_function\n",
    "\n",
    "hi_func = outer_function(\"Hi\")\n",
    "bye_func = outer_function(\"Bye\")\n",
    "\n",
    "hi_func()\n",
    "bye_func()"
   ]
  },
  {
   "cell_type": "markdown",
   "metadata": {},
   "source": [
    "위의 코드는 **클로저** 이다. <BR>\n",
    "여기서 데코레이터도 함수를 다른 함수의 인자로 전달한다는 점이 조금 다르다. 아래의 예시를 보자"
   ]
  },
  {
   "cell_type": "code",
   "execution_count": 2,
   "metadata": {
    "collapsed": false
   },
   "outputs": [
    {
     "name": "stdout",
     "output_type": "stream",
     "text": [
      "display 함수가 실행되었습니다.\n"
     ]
    }
   ],
   "source": [
    "def decorator_function(original_function):\n",
    "    def wrapper_function():\n",
    "        return original_function()\n",
    "    return wrapper_function\n",
    "\n",
    "def display():\n",
    "    print(\"display 함수가 실행되었습니다.\")\n",
    "    \n",
    "decorated_display = decorator_function(display)\n",
    "decorated_display()"
   ]
  },
  {
   "cell_type": "markdown",
   "metadata": {},
   "source": [
    "1. 데코레이터 함수, decorator_function 과 일반 함수인 display 를 각각 정의\n",
    "2. decorated_display 라는 변수에 display 함수를 인자로 갖는 decorator_function 을 실행한 리턴 값을 할당\n",
    "3. 리턴 값은 wrapper_function 이 된다.\n",
    "4. wrapper_function 은 실행된 것이 아니다.\n",
    "5. decorated_display 변수에서 실행되길 기다리고 있다.\n",
    "6. decorated_display() 를 통해 wrappe_function() 이 실행되고 original_function() 인자인 display() 가 실행되어서 해당 문자열을 출력하게 된다.\n",
    "\n",
    "\n",
    "### 여기서, 데코레이터를 왜 쓰는 것인가?\n",
    "기존에 만들어져 있는 코드를 수정하지 않더라도 wrapper 함수를 이용해서 여러가지 기능을 추가할 수 있기 때문이다. 아래의 예시를 살펴보자"
   ]
  },
  {
   "cell_type": "code",
   "execution_count": 7,
   "metadata": {
    "collapsed": false
   },
   "outputs": [
    {
     "name": "stdout",
     "output_type": "stream",
     "text": [
      "display_1 함수가 호출되기 전입니다.\n",
      "display_1 함수가 실행\n",
      "\n",
      "display_2 함수가 호출되기 전입니다.\n",
      "display_2 함수가 실행\n"
     ]
    }
   ],
   "source": [
    "def decorator_function(original_function):\n",
    "    \n",
    "    def wrapper_function():\n",
    "        print(\"{} 함수가 호출되기 전입니다.\".format(original_function.__name__))\n",
    "        return original_function()\n",
    "    \n",
    "    return wrapper_function\n",
    "\n",
    "def display_1():\n",
    "    print(\"display_1 함수가 실행\")\n",
    "    \n",
    "def display_2():\n",
    "    print(\"display_2 함수가 실행\")\n",
    "\n",
    "\n",
    "display_1 = decorator_function(display_1)\n",
    "display_2 = decorator_function(display_2)\n",
    "\n",
    "display_1()\n",
    "print()\n",
    "display_2()"
   ]
  },
  {
   "cell_type": "markdown",
   "metadata": {},
   "source": [
    "일반적으로 위의 내용처럼 구문을 이용하지 않는다고 한다.<BR>\n",
    "'@' 심볼과 데코레이터 함수의 이름을 붙여 쓰는 간단한 구문을 사용하는데,<BR> \n",
    "위의 코드는 아래와 같이 간소화할 수 있다고 한다."
   ]
  },
  {
   "cell_type": "code",
   "execution_count": 9,
   "metadata": {
    "collapsed": false
   },
   "outputs": [
    {
     "name": "stdout",
     "output_type": "stream",
     "text": [
      "display_1 함수가 호출되기전 입니다.\n",
      "display_1 함수가 실행되었습니다.\n",
      "\n",
      "display_2 함수가 호출되기전 입니다.\n",
      "display_2 함수가 실행되었습니다.\n"
     ]
    }
   ],
   "source": [
    "def decorator_function(original_function):\n",
    "    \n",
    "    def wrapper_function():\n",
    "        print('{} 함수가 호출되기전 입니다.'.format(original_function.__name__))\n",
    "        return original_function()\n",
    "    \n",
    "    return wrapper_function\n",
    "\n",
    "@decorator_function #### 1\n",
    "def display_1():\n",
    "    print(\"display_1 함수가 실행되었습니다.\")\n",
    "\n",
    "@decorator_function #### 2\n",
    "def display_2():\n",
    "    print(\"display_2 함수가 실행되었습니다.\")\n",
    "\n",
    "#####################################\n",
    "# display_1 = decorator_function(display_1) \n",
    "# display_2 = decorator_function(display_2)  \n",
    "#####################################\n",
    "\n",
    "display_1()\n",
    "print()\n",
    "display_2()"
   ]
  },
  {
   "cell_type": "markdown",
   "metadata": {},
   "source": [
    "두 개의 내용을 잘 살펴보면, <BR>\n",
    "display_n = decorator_function(display_n) 이 생략되었음을 확인가능하다. 그리고 이에 대한 내용을 '@' 심볼을 사용한 데코레이터 구문이 추가되어 코드가 좀 더 간결해짐을 확인할 수 있다.\n",
    "\n",
    "<a href=\"https://godoftyping.wordpress.com/2017/05/24/python-%ED%95%A8%EC%88%98-%EC%9D%B8%EC%9E%90%EA%B0%92-%EC%A0%95%EB%A6%AC/\">함수 인자값 정리 링크</a>\n",
    "\n",
    "위의 링크를 보고 아래의 내용을 이해해도 무방하다."
   ]
  },
  {
   "cell_type": "code",
   "execution_count": 35,
   "metadata": {
    "collapsed": false
   },
   "outputs": [
    {
     "name": "stdout",
     "output_type": "stream",
     "text": [
      "display 함수가 호출되기전 입니다.\n",
      "display 함수가 실행\n",
      "display_info 함수가 호출되기전 입니다.\n",
      "display_info(John, 25) 함수가 실행\n"
     ]
    }
   ],
   "source": [
    "def decorator_function(original_function):\n",
    "    \n",
    "    # wrapper_function 을 자세히 살피면,\n",
    "    # 첫번째 인자는 가변형 인자로 받는 값의 형태는 튜플 형태로 받는다. ex) (1, 2, 3)\n",
    "    # 두번째 인자는 키워드 인자로 받는 값의 형태는 dict 로 받는다.          ex) (a=10, b=20)\n",
    "    def wrapper_function(*args, **kwargs): \n",
    "        print('{} 함수가 호출되기전 입니다.'.format(original_function.__name__))\n",
    "        return original_function(*args, **kwargs) \n",
    "    \n",
    "    return wrapper_function\n",
    "\n",
    "\n",
    "@decorator_function\n",
    "def display():\n",
    "    print('display 함수가 실행')\n",
    "\n",
    "\n",
    "@decorator_function\n",
    "def display_info(name, age):\n",
    "    print('display_info({}, {}) 함수가 실행'.format(name, age))\n",
    "\n",
    "display()\n",
    "print\n",
    "display_info('John', 25)"
   ]
  },
  {
   "cell_type": "markdown",
   "metadata": {},
   "source": [
    "데코레이터는 이런 함수의 형식 말고도 클래스 형식으로도 이용 가능하다. 아래의 예시를 보자."
   ]
  },
  {
   "cell_type": "code",
   "execution_count": 39,
   "metadata": {
    "collapsed": false
   },
   "outputs": [
    {
     "name": "stdout",
     "output_type": "stream",
     "text": [
      "display 함수가 호출되기 전\n",
      "display 함수가 실행\n",
      "\n",
      "display_info 함수가 호출되기 전\n",
      "display_info(John, 25) 함수가 실행\n"
     ]
    }
   ],
   "source": [
    "class DecoratorClass:\n",
    "    def __init__(self, original_function):\n",
    "        self.original_function = original_function\n",
    "        \n",
    "    def __call__(self, *args, **kwargs):\n",
    "        print('{} 함수가 호출되기 전'.format(self.original_function.__name__))\n",
    "        return self.original_function(*args, **kwargs)\n",
    "    \n",
    "\n",
    "@DecoratorClass\n",
    "def display():\n",
    "    print(\"display 함수가 실행\")\n",
    "\n",
    "@DecoratorClass\n",
    "def display_info(name, age):\n",
    "    print(\"display_info({}, {}) 함수가 실행\".format(name, age))\n",
    "\n",
    "\n",
    "display()\n",
    "print()\n",
    "display_info('John', 25)\n",
    "\n",
    "# @DecoratorClass 를 붙이는 유무에 따라서 실행되는 순서가 달라진다."
   ]
  },
  {
   "cell_type": "markdown",
   "metadata": {},
   "source": [
    "클래스 형식보다는 함수 형식의 데코레이터를 많이 이용한다고 한다.\n",
    "\n",
    "데코레이터를 이용할 줄 알지만 실제 프로젝트에서 어떻게 이용되는지 살펴볼 필요가 있다. \n",
    "\n",
    "일반적으로 데코레이터는 로그를 남기거나 유저의 로그인 상태등을 확인하여 로그인 상태가 아니면 로그인 페이지로 리다이렉트(redirect) 하기 위해서 사용된다. 또한 프로그램의 성능을 테스트하기 위해서도 많이 쓰인다. 리눅스나 유닉스 서버관리자는 스크립트가 실행되는 시간을 측정하기 위해 다음과 같은 date 혹은 time 명령어를 많이 사용한다."
   ]
  },
  {
   "cell_type": "code",
   "execution_count": null,
   "metadata": {
    "collapsed": true
   },
   "outputs": [],
   "source": []
  }
 ],
 "metadata": {
  "anaconda-cloud": {},
  "kernelspec": {
   "display_name": "Python [conda root]",
   "language": "python",
   "name": "conda-root-py"
  },
  "language_info": {
   "codemirror_mode": {
    "name": "ipython",
    "version": 3
   },
   "file_extension": ".py",
   "mimetype": "text/x-python",
   "name": "python",
   "nbconvert_exporter": "python",
   "pygments_lexer": "ipython3",
   "version": "3.5.2"
  }
 },
 "nbformat": 4,
 "nbformat_minor": 1
}
