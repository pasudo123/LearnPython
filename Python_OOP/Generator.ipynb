{
 "cells": [
  {
   "cell_type": "markdown",
   "metadata": {},
   "source": [
    "# 제너레이터 (Generator)\n",
    "----\n",
    "제너레이터 ?\n",
    "\n",
    "제너레이터는 반복자(Iterator)와 같은 루프의 작용을 컨트롤하기 위해 쓰여지는 특별한 함수 또는 루틴. 모든 제너레이터는 반복자이며, 제너레이터는 배열이나 리스트를 리턴하는 함수와 비슷하며, 호출을 할 수 있는 파라미터를 가지고 있다. 그리고 연속적인 값들을 만들어낸다.\n",
    "\n",
    "한번에 모든 값을 포함한 배열을 만들어서 리턴하는 대신 yield 구문을 이용해 한 번 호출될 때마다 하나의 값만을 리턴하고, 이런 이유로 일반 반복자에 비해 __아주 작은 메모리__를 필요로 한다.\n",
    "\n",
    "제너레이터를 사용하면, 일반 함수보다 훨씬 더 좋은 퍼포먼스와 함께 메모리 리소스를 절약이 가능하다."
   ]
  },
  {
   "cell_type": "code",
   "execution_count": 1,
   "metadata": {
    "collapsed": false
   },
   "outputs": [
    {
     "name": "stdout",
     "output_type": "stream",
     "text": [
      "[1, 4, 9, 16, 25]\n"
     ]
    }
   ],
   "source": [
    "def square_numbers(nums):\n",
    "    result = []\n",
    "    \n",
    "    for i in nums:\n",
    "        result.append(i * i)\n",
    "    return result\n",
    "\n",
    "my_nums = square_numbers([1, 2, 3, 4, 5])\n",
    "\n",
    "print(my_nums)"
   ]
  },
  {
   "cell_type": "markdown",
   "metadata": {},
   "source": [
    "위의 코드를 제너레이터로 형성해본다."
   ]
  },
  {
   "cell_type": "code",
   "execution_count": 2,
   "metadata": {
    "collapsed": false
   },
   "outputs": [
    {
     "name": "stdout",
     "output_type": "stream",
     "text": [
      "<generator object square_numbers at 0x000002187066B5C8>\n"
     ]
    }
   ],
   "source": [
    "def square_numbers(nums):   \n",
    "    for i in nums:\n",
    "        yield i * i\n",
    "\n",
    "my_nums = square_numbers([1, 2, 3, 4, 5])\n",
    "\n",
    "print(my_nums)"
   ]
  },
  {
   "cell_type": "markdown",
   "metadata": {},
   "source": [
    "제너레이터 오브젝트가 리턴되었다. \n",
    "\n",
    "제너레이터는 자신이 리턴할 모든 값을 메모리에 저장하지 않기 때문에, 일반함수와 같이 결과값을 보이지 않는다. 제너레이터는 한 번 호출될 때마다 하나의 값만을 전달(yield)한다. 즉, 아직 아무런 계산을 하지 않고 다음 값에 대해서 물어보기를 기다리고 있는 상태이다."
   ]
  },
  {
   "cell_type": "code",
   "execution_count": 3,
   "metadata": {
    "collapsed": false
   },
   "outputs": [
    {
     "name": "stdout",
     "output_type": "stream",
     "text": [
      "1\n",
      "4\n",
      "9\n",
      "16\n",
      "25\n"
     ]
    }
   ],
   "source": [
    "def square_numbers(nums):\n",
    "    for i in nums:\n",
    "        yield i * i\n",
    "\n",
    "my_nums = square_numbers([1, 2, 3, 4, 5])\n",
    "\n",
    "print(next(my_nums))\n",
    "print(next(my_nums))\n",
    "print(next(my_nums))\n",
    "print(next(my_nums))\n",
    "print(next(my_nums))"
   ]
  },
  {
   "cell_type": "markdown",
   "metadata": {},
   "source": [
    "next() 함수를 통해서 다음 값이 무엇인지 물어보고 해당 리스트 요소 개수만큼 print() 구문을 이용하였다. \n",
    "> 제너레이터가 일반 함수보다 좋은 점은 복잡함을 단순화 시킨다는 것에 있다. "
   ]
  },
  {
   "cell_type": "code",
   "execution_count": 4,
   "metadata": {
    "collapsed": false,
    "scrolled": true
   },
   "outputs": [
    {
     "name": "stdout",
     "output_type": "stream",
     "text": [
      "[1, 4, 9, 16, 25]\n",
      "1\n",
      "4\n",
      "9\n",
      "16\n",
      "25\n"
     ]
    }
   ],
   "source": [
    "my_nums = [x*x for x in [1, 2, 3, 4, 5]]\n",
    "\n",
    "print(my_nums)\n",
    "\n",
    "for num in my_nums:\n",
    "    print(num)"
   ]
  },
  {
   "cell_type": "code",
   "execution_count": 5,
   "metadata": {
    "collapsed": false
   },
   "outputs": [
    {
     "name": "stdout",
     "output_type": "stream",
     "text": [
      "<generator object <genexpr> at 0x000002187066B6D0>\n",
      "1\n",
      "4\n",
      "9\n",
      "16\n",
      "25\n"
     ]
    }
   ],
   "source": [
    "my_nums = (x*x for x in [1, 2, 3, 4, 5])\n",
    "\n",
    "print(my_nums)\n",
    "\n",
    "for num in my_nums:\n",
    "    print(num)"
   ]
  },
  {
   "cell_type": "markdown",
   "metadata": {},
   "source": [
    "두 코드의 차이를 살펴보면, 하나는 '[]' 를 이용했고, 밑에는 '()' 을 이용했다. 여기서 for 구문을 이용하지 않고  제너레이터의 데이터를 보고 싶은 경우에는 제너레이터를 리스트로 변환한다."
   ]
  },
  {
   "cell_type": "code",
   "execution_count": 6,
   "metadata": {
    "collapsed": false
   },
   "outputs": [
    {
     "name": "stdout",
     "output_type": "stream",
     "text": [
      "<generator object <genexpr> at 0x000002187063FEB8>\n",
      "[1, 4, 9, 16, 25]\n"
     ]
    }
   ],
   "source": [
    "my_nums = (x*x for x in [1, 2, 3, 4, 5])\n",
    "\n",
    "print(my_nums)\n",
    "print(list(my_nums))"
   ]
  },
  {
   "cell_type": "markdown",
   "metadata": {},
   "source": [
    "여기서 한가지 주의할 사항은 한번 리스트로 변경을 하게되면, 기존의 제너레이터가 가지고 있는 장점이 사라진다는 것이다. 제너레이터의 주요 장점은 앞서 말했다시피 퍼포먼스의 향상과 메모리 절약에 있다. 제너레이터는 모든 결과값을 메모리에 저장하지 않기 때문이다."
   ]
  },
  {
   "cell_type": "code",
   "execution_count": 7,
   "metadata": {
    "collapsed": false
   },
   "outputs": [
    {
     "name": "stdout",
     "output_type": "stream",
     "text": [
      "시작 전 메모리 사용량: 49.859375 MB\n",
      "종료 후 메모리 사용량: 380.74609375 MB\n",
      "총 소요된 시간: 2.369555 초\n"
     ]
    }
   ],
   "source": [
    "from __future__ import division\n",
    "import os\n",
    "import psutil\n",
    "import random\n",
    "import time\n",
    "\n",
    "names = ['이소룡', '홍길동', '고길동', '나루토', '백윤식', '고창석']\n",
    "majors = ['컴퓨터 공학', '국문학', '영문학', '수학', '정치']\n",
    "\n",
    "process = psutil.Process(os.getpid())\n",
    "mem_before = process.memory_info().rss / 1024 / 1024\n",
    "\n",
    "def people_list(num_people):\n",
    "    result = []\n",
    "    \n",
    "    for i in range(num_people):\n",
    "        person = {\n",
    "            'id' : i,\n",
    "            'name' : random.choice(names),\n",
    "            'major' : random.choice(majors)\n",
    "        }\n",
    "        \n",
    "        result.append(person)\n",
    "    return result\n",
    "\n",
    "def people_generator(num_people):\n",
    "    for i in range(num_people):\n",
    "        person = {\n",
    "            'id' : i,\n",
    "            'name' : random.choice(names),\n",
    "            'major' : random.choice(majors)\n",
    "        }\n",
    "        yield person\n",
    "        \n",
    "t1 = time.clock()\n",
    "people = people_list(1000000) # 백만번 호출\n",
    "t2 = time.clock()\n",
    "mem_after = process.memory_info().rss / 1024 / 1024\n",
    "total_time = t2 - t1\n",
    "\n",
    "print('시작 전 메모리 사용량: {} MB'.format(mem_before))\n",
    "print('종료 후 메모리 사용량: {} MB'.format(mem_after))\n",
    "print('총 소요된 시간: {:.6f} 초'.format(total_time))"
   ]
  },
  {
   "cell_type": "markdown",
   "metadata": {},
   "source": [
    "메모리 사용량이 51 MB >> 383 MB 로 늘어났다. 시간은 2.4초 정도 걸렸는데, <BR>\n",
    "people_list()가 아닌 people_generator()로 변경해서 테스트해보자."
   ]
  },
  {
   "cell_type": "code",
   "execution_count": 1,
   "metadata": {
    "collapsed": false
   },
   "outputs": [
    {
     "name": "stdout",
     "output_type": "stream",
     "text": [
      "시작 전 메모리 사용량: 50.11328125 MB\n",
      "종료 후 메모리 사용량: 50.12109375 MB\n",
      "총 소요된 시간: 0.000040 초\n"
     ]
    }
   ],
   "source": [
    "from __future__ import division\n",
    "import os\n",
    "import psutil\n",
    "import random\n",
    "import time\n",
    "\n",
    "names = ['이소룡', '홍길동', '고길동', '나루토', '백윤식', '고창석']\n",
    "majors = ['컴퓨터 공학', '국문학', '영문학', '수학', '정치']\n",
    "\n",
    "process = psutil.Process(os.getpid())\n",
    "mem_before = process.memory_info().rss / 1024 / 1024\n",
    "\n",
    "def people_list(num_people):\n",
    "    result = []\n",
    "    \n",
    "    for i in range(num_people):\n",
    "        person = {\n",
    "            'id' : i,\n",
    "            'name' : random.choice(names),\n",
    "            'major' : random.choice(majors)\n",
    "        }\n",
    "        \n",
    "        result.append(person)\n",
    "    return result\n",
    "\n",
    "def people_generator(num_people):\n",
    "    for i in range(num_people):\n",
    "        person = {\n",
    "            'id' : i,\n",
    "            'name' : random.choice(names),\n",
    "            'major' : random.choice(majors)\n",
    "        }\n",
    "        yield person\n",
    "        \n",
    "t1 = time.clock()\n",
    "people = people_generator(1000000) # 백만번 호출\n",
    "t2 = time.clock()\n",
    "mem_after = process.memory_info().rss / 1024 / 1024\n",
    "total_time = t2 - t1\n",
    "\n",
    "print('시작 전 메모리 사용량: {} MB'.format(mem_before))\n",
    "print('종료 후 메모리 사용량: {} MB'.format(mem_after))\n",
    "print('총 소요된 시간: {:.6f} 초'.format(total_time))"
   ]
  },
  {
   "cell_type": "markdown",
   "metadata": {},
   "source": [
    "### 제너레이터\n",
    "제너레이터를 사용하니 메모리 사용량이 전후과 동일하며, <BR>\n",
    "프로그램 실행 시간이 1초 미만으로 아주 적게 나온다. \n",
    "\n",
    "이로 인해 제너레이터를 사용하면, 메모리 절감이나 시간 소요의 감소로 퍼포먼스가 향상됨을 알 수 있었다."
   ]
  }
 ],
 "metadata": {
  "anaconda-cloud": {},
  "kernelspec": {
   "display_name": "Python [conda root]",
   "language": "python",
   "name": "conda-root-py"
  },
  "language_info": {
   "codemirror_mode": {
    "name": "ipython",
    "version": 3
   },
   "file_extension": ".py",
   "mimetype": "text/x-python",
   "name": "python",
   "nbconvert_exporter": "python",
   "pygments_lexer": "ipython3",
   "version": "3.5.2"
  }
 },
 "nbformat": 4,
 "nbformat_minor": 1
}
