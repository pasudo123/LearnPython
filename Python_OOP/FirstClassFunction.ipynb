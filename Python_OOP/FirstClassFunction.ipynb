{
 "cells": [
  {
   "cell_type": "markdown",
   "metadata": {},
   "source": [
    "# First Class Function\n",
    "---\n",
    "퍼스트 클래스 함수란 프로그래밍 언어가 함수(function) 을 first-class citizen 으로 취급하는 것을 뜻한다. 쉽게 설명하여 함수 자체를 인자(argument) 로써 다른 함수에 전달하거나 다른 함수의 결과값으로 리턴할 수도 있고, 함수를 변수에 할당하거나 데이터 구조 안에 저장할 수 있는 함수를 뜻한다."
   ]
  },
  {
   "cell_type": "code",
   "execution_count": 1,
   "metadata": {
    "collapsed": false
   },
   "outputs": [
    {
     "name": "stdout",
     "output_type": "stream",
     "text": [
      "25\n"
     ]
    }
   ],
   "source": [
    "def square(x):\n",
    "    return x * x\n",
    "\n",
    "print(square(5))"
   ]
  },
  {
   "cell_type": "code",
   "execution_count": 2,
   "metadata": {
    "collapsed": false
   },
   "outputs": [
    {
     "name": "stdout",
     "output_type": "stream",
     "text": [
      "<function square at 0x00000206A882D950>\n",
      "<function square at 0x00000206A882D950>\n"
     ]
    }
   ],
   "source": [
    "f = square\n",
    "\n",
    "print(square)\n",
    "print(f)"
   ]
  },
  {
   "cell_type": "markdown",
   "metadata": {},
   "source": [
    "\n",
    "위의 코드를 살펴보면, 함수 \"square\" 를 정의하고 호출하였다. 그 다음 square 함수를 \"f\" 라는 변수에 할당한 후에 square 와 f 의 값을 출력한 것이다. 둘 값 모두 메모리 주소 값에 저장된 square 함수 오브젝트가 할당되어 있는 것을 볼 수 있다. "
   ]
  },
  {
   "cell_type": "code",
   "execution_count": 3,
   "metadata": {
    "collapsed": false
   },
   "outputs": [
    {
     "name": "stdout",
     "output_type": "stream",
     "text": [
      "25\n"
     ]
    }
   ],
   "source": [
    "def square(x):\n",
    "    return x * x\n",
    "\n",
    "f = square\n",
    "\n",
    "print(f(5))"
   ]
  },
  {
   "cell_type": "markdown",
   "metadata": {},
   "source": [
    "f(5) 구문을 통해서 square 함수를 호출한 것을 볼 수 있다. 프로그래밍 언어가 퍼스트 클래스 함수를 지원하게 된다면 변수에 함수를 할당할 수 있을뿐만 아니라, 인자로써 다른 함수에 전달하거나, 함수의 리턴값으로도 사용할 수가 있다."
   ]
  },
  {
   "cell_type": "code",
   "execution_count": 4,
   "metadata": {
    "collapsed": false
   },
   "outputs": [
    {
     "name": "stdout",
     "output_type": "stream",
     "text": [
      "[1, 4, 9, 16, 25]\n"
     ]
    }
   ],
   "source": [
    "def square(x):\n",
    "    return x * x\n",
    "\n",
    "def my_map(func, arg_list):\n",
    "    result = []\n",
    "    \n",
    "    for i in arg_list:\n",
    "        result.append(func(i))\n",
    "    return result\n",
    "\n",
    "num_list = [1, 2,  3, 4, 5]\n",
    "\n",
    "squares = my_map(square, num_list)\n",
    "\n",
    "print(squares)"
   ]
  },
  {
   "cell_type": "markdown",
   "metadata": {},
   "source": [
    "my_map 함수에 square 함수를 인자로 전달한 후 for 루프안에서 square 함수를 호출한 것을 볼 수 있다. 하지만 간단한 함수 하나만을 실행하고 싶은 경우는 아래와 같이 한다. "
   ]
  },
  {
   "cell_type": "code",
   "execution_count": 5,
   "metadata": {
    "collapsed": false
   },
   "outputs": [
    {
     "name": "stdout",
     "output_type": "stream",
     "text": [
      "[1, 4, 9, 16, 25]\n"
     ]
    }
   ],
   "source": [
    "def square(x):\n",
    "    return x * x\n",
    "\n",
    "def simple_square(arg_list):\n",
    "    result = []\n",
    "    \n",
    "    for i in arg_list:\n",
    "        result.append(i * i)\n",
    "    return result\n",
    "\n",
    "num_list = [1, 2,  3, 4, 5]\n",
    "\n",
    "simple_squares = simple_square(num_list)\n",
    "\n",
    "print(simple_squares)"
   ]
  },
  {
   "cell_type": "markdown",
   "metadata": {},
   "source": [
    "위의 경우에서, 함수를 이용하지 않고 구현할 수 있지만 퍼스트클래스 함수를 사용하게 된다면, 이미 정의된 여러 함수를 간단히 재활용할 수 있다는 장점이 존재한다. 아래의 예시가 있다."
   ]
  },
  {
   "cell_type": "code",
   "execution_count": 6,
   "metadata": {
    "collapsed": false
   },
   "outputs": [
    {
     "name": "stdout",
     "output_type": "stream",
     "text": [
      "[1, 4, 9, 16, 25]\n",
      "[1, 8, 27, 64, 125]\n",
      "[1, 16, 81, 256, 625]\n"
     ]
    }
   ],
   "source": [
    "def square(x):\n",
    "    return x * x\n",
    "\n",
    "def cube(x):\n",
    "    return x * x * x\n",
    "\n",
    "def quad(x):\n",
    "    return x * x * x * x\n",
    "\n",
    "def my_map(func, arg_list):\n",
    "    result = []\n",
    "    \n",
    "    for i in arg_list:\n",
    "        result.append(func(i))\n",
    "    \n",
    "    return result\n",
    "\n",
    "num_list = [1, 2, 3, 4, 5]\n",
    "\n",
    "squares = my_map(square, num_list)\n",
    "cubes = my_map(cube, num_list)\n",
    "quads = my_map(quad, num_list)\n",
    "\n",
    "print(squares)\n",
    "print(cubes)\n",
    "print(quads)"
   ]
  },
  {
   "cell_type": "markdown",
   "metadata": {},
   "source": [
    "위의 내용을 살펴보면, square, cube, quad 와 같은 여러개의 함수나 모듈이 있다고 가정했을 때, my_map 과 같은 wrapper 함수를 하나만 정의하여 기존의 함수나 모듈을 수정할 필요없이 편리하게 쓸 수 있게 된다. \n",
    "\n",
    "이제는 함수의 결과 값으로 또 다른 함수를 리턴하는 방법을 살펴보자. "
   ]
  },
  {
   "cell_type": "code",
   "execution_count": 10,
   "metadata": {
    "collapsed": false
   },
   "outputs": [
    {
     "name": "stdout",
     "output_type": "stream",
     "text": [
      "<function logger.<locals>.log_message at 0x00000206A885A6A8>\n",
      "Log  :   Hi\n"
     ]
    }
   ],
   "source": [
    "def logger(msg):\n",
    "    \n",
    "    def log_message():        # 1\n",
    "        print('Log  :  ', msg)\n",
    "        \n",
    "    return log_message\n",
    "\n",
    "log_hi = logger(\"Hi\")\n",
    "print(log_hi)                         # 2\n",
    "log_hi()                                  # 3"
   ]
  },
  {
   "cell_type": "markdown",
   "metadata": {},
   "source": [
    "msg 와 같은 함수의 지역변수 값은 함수가 호출된 이후에 메모리 상에서 사라지므로 다시 참조가 불가능한데, msg 변수에 할당됐던 \"Hi\" 값이 logger 함수가 종료된 이후에도 참조되었다. \n",
    "***\n",
    "log_message 와 같은 함수를 클로저라고 부르며 **클로저**는 다른 함수의 지역변수가 종료된 이후에도 기억을 할 수가 있다. 여기서 log_message 가 정말 기억을 하고 있는지 msg 변수를 지역변수로 가지고 있는 logger 함수를 글로벌 네임스페이스에서 완전히 지운 후에  log_message 를 호출해본다."
   ]
  },
  {
   "cell_type": "code",
   "execution_count": 14,
   "metadata": {
    "collapsed": false
   },
   "outputs": [
    {
     "name": "stdout",
     "output_type": "stream",
     "text": [
      "<function logger.<locals>.log_message at 0x00000206A886F950>\n",
      "<function logger at 0x00000206A886F8C8>\n",
      "Log  :   Hi\n",
      "NameError  :  Logger 는 존재하지 않습니다.\n",
      "Log  :   Hi\n"
     ]
    }
   ],
   "source": [
    "def logger(msg):\n",
    "    \n",
    "    def log_message():\n",
    "        print('Log  :  ', msg)\n",
    "    return log_message\n",
    "\n",
    "log_hi = logger('Hi')\n",
    "print(log_hi)\n",
    "print(logger)\n",
    "log_hi()\n",
    "\n",
    "del logger\n",
    "\n",
    "try:\n",
    "    print(logger)\n",
    "except NameError:\n",
    "    print('NameError  :  Logger 는 존재하지 않습니다.')\n",
    "\n",
    "log_hi()"
   ]
  },
  {
   "cell_type": "markdown",
   "metadata": {},
   "source": [
    "logger 가 지워진 뒤에도 log_hi() 를 실행하여 log_message 가 호출된 것을 볼 수 있다.\n",
    "\n",
    "logger 함수를 완전히 삭제한 이후에도 log_message 함수는 'Hi' 를 기억하고 있는 것을 확인했습니다. 이런식으로 클로저는 여러가지 편리하게 쓰여지는 경우가 있다. \n",
    "\n",
    "클로저의 좀 더 실용적인 예제를 보자."
   ]
  },
  {
   "cell_type": "code",
   "execution_count": 20,
   "metadata": {
    "collapsed": false
   },
   "outputs": [
    {
     "name": "stdout",
     "output_type": "stream",
     "text": [
      "<h1>심플 헤딩 타이틀<h1>\n",
      "------------------------------\n",
      "<function html_tag.<locals>.wrap_text at 0x00000206A88E0D08>\n",
      "<h1>첫번째 헤딩 타이틀<h1>\n",
      "<h1>두번째 헤딩 타이틀<h1>\n",
      "<p>이것은 패러그래프 입니다.<p>\n"
     ]
    }
   ],
   "source": [
    "def simple_html_tag(tag, msg):\n",
    "    print('<{0}>{1}<{0}>'.format(tag, msg))\n",
    "    \n",
    "simple_html_tag('h1', '심플 헤딩 타이틀')\n",
    "print('-'*30)\n",
    "\n",
    "def html_tag(tag):\n",
    "    def wrap_text(msg):\n",
    "        print('<{0}>{1}<{0}>'.format(tag, msg))\n",
    "    return wrap_text\n",
    "\n",
    "print_h1 = html_tag('h1')       # 1\n",
    "print(print_h1)                            # 2\n",
    "print_h1(\"첫번째 헤딩 타이틀\") # 3\n",
    "print_h1(\"두번째 헤딩 타이틀\") # 4\n",
    "\n",
    "print_p = html_tag('p')\n",
    "print_p('이것은 패러그래프 입니다.')"
   ]
  },
  {
   "cell_type": "markdown",
   "metadata": {},
   "source": [
    "'#1' 에서 html_tag 함수를 print_h1 변수에 할당한 뒤, '#2' 에서 변수의 값을 출력하였다. 결과로는 wrap_text 함수 오브젝트가 할당되어 있는 것을 볼 수 있다. \n",
    "\n",
    "'#3' 과 '#4' 에서 간단한 문자열을 전달하여 wrap_text 함수를 호출한 것을 볼 수 있다. \n",
    "\n",
    "html_tag 와 같은 higher_order 함수들을 이해해야 클로저, 데코레이터 그리고 제너레이터 등에 대해 쉽게 이해할 수 있다고 한다. 데코레이터와 제너레이터 등의 구문을 사용하면 이전과는 전혀 다른 차원의 코딩을 할 수가 있다고 한다."
   ]
  }
 ],
 "metadata": {
  "anaconda-cloud": {},
  "kernelspec": {
   "display_name": "Python [conda root]",
   "language": "python",
   "name": "conda-root-py"
  },
  "language_info": {
   "codemirror_mode": {
    "name": "ipython",
    "version": 3
   },
   "file_extension": ".py",
   "mimetype": "text/x-python",
   "name": "python",
   "nbconvert_exporter": "python",
   "pygments_lexer": "ipython3",
   "version": "3.5.2"
  }
 },
 "nbformat": 4,
 "nbformat_minor": 1
}
